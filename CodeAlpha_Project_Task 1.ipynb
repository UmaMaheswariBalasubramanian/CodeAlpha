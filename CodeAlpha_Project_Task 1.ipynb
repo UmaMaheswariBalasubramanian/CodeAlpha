{
 "cells": [
  {
   "cell_type": "markdown",
   "id": "b094114d",
   "metadata": {},
   "source": [
    "# Spam Email Classifier"
   ]
  },
  {
   "cell_type": "markdown",
   "id": "d1193c20",
   "metadata": {},
   "source": [
    "Problem Statement: Build a machine learning model that can classify emails as either spam\n",
    "or not spam (ham). Use natural language processing (NLP) techniques\n",
    "to process and analyze email text."
   ]
  },
  {
   "cell_type": "markdown",
   "id": "95701173",
   "metadata": {},
   "source": [
    "# Data Exploration:\n",
    "\n",
    "Examine the dataset to understand its structure, such as columns and their meanings.\n",
    "Explore the distribution of spam and ham emails.\n"
   ]
  },
  {
   "cell_type": "markdown",
   "id": "f4820293",
   "metadata": {},
   "source": [
    "# Data Preprocessing:\n",
    "\n",
    "Clean and preprocess the text data. This includes:\n",
    "Removing special characters and punctuation.\n",
    "Tokenization: Splitting the text into words or tokens.\n",
    "Removing stopwords.\n",
    "Lemmatization or stemming to reduce words to their base form."
   ]
  },
  {
   "cell_type": "markdown",
   "id": "7af4de43",
   "metadata": {},
   "source": [
    "# Feature Extraction:\n",
    "\n",
    "Convert the text data into numerical features using TF-IDF (Term Frequency-Inverse Document Frequency) vectorization. You can use the TfidfVectorizer from scikit-learn."
   ]
  },
  {
   "cell_type": "markdown",
   "id": "b4a3b4e4",
   "metadata": {},
   "source": [
    "# Split the Data:\n",
    "\n",
    "Split the dataset into a training set and a testing set. Common ratios are 80% for training and 20% for testing."
   ]
  },
  {
   "cell_type": "markdown",
   "id": "b2a3ade1",
   "metadata": {},
   "source": [
    "# Model Selection:\n",
    "\n",
    "Choose a machine learning algorithm for classification. You can start with simple models like Multinomial Naive Bayes or try more advanced algorithms like Random Forest or Support Vector Machines (SVM)."
   ]
  },
  {
   "cell_type": "markdown",
   "id": "e69fe8a4",
   "metadata": {},
   "source": [
    "# Model Training:\n",
    "\n",
    "Train the selected model using the training data and the TF-IDF features."
   ]
  },
  {
   "cell_type": "markdown",
   "id": "1fac66a1",
   "metadata": {},
   "source": [
    "# Model Evaluation:\n",
    "\n",
    "Evaluate the model's performance using various metrics such as accuracy, precision, recall, F1 score, and ROC AUC. You can use scikit-learn's classification_report and confusion_matrix for this purpose."
   ]
  },
  {
   "cell_type": "markdown",
   "id": "9978d024",
   "metadata": {},
   "source": [
    "# Hyperparameter Tuning:\n",
    "\n",
    "Fine-tune the model by adjusting hyperparameters for better performance. You can use techniques like grid search or random search."
   ]
  },
  {
   "cell_type": "code",
   "execution_count": 1,
   "id": "a416cb8c",
   "metadata": {},
   "outputs": [
    {
     "name": "stdout",
     "output_type": "stream",
     "text": [
      "Accuracy: 0.9623318385650225\n",
      "              precision    recall  f1-score   support\n",
      "\n",
      "         ham       0.96      1.00      0.98       965\n",
      "        spam       1.00      0.72      0.84       150\n",
      "\n",
      "    accuracy                           0.96      1115\n",
      "   macro avg       0.98      0.86      0.91      1115\n",
      "weighted avg       0.96      0.96      0.96      1115\n",
      "\n",
      "Confusion Matrix:\n",
      "[[965   0]\n",
      " [ 42 108]]\n"
     ]
    }
   ],
   "source": [
    "import pandas as pd\n",
    "from sklearn.model_selection import train_test_split\n",
    "from sklearn.feature_extraction.text import TfidfVectorizer\n",
    "from sklearn.naive_bayes import MultinomialNB\n",
    "from sklearn.metrics import accuracy_score, classification_report, confusion_matrix\n",
    "\n",
    "# Load the dataset\n",
    "data = pd.read_csv('spam.csv', encoding='latin-1')\n",
    "# You may need to adjust the column names based on your dataset's structure\n",
    "X = data['v2']  # Email text\n",
    "y = data['v1']  # Spam or ham labels\n",
    "\n",
    "# Data preprocessing and TF-IDF vectorization\n",
    "vectorizer = TfidfVectorizer()\n",
    "X = vectorizer.fit_transform(X)\n",
    "\n",
    "# Split the data\n",
    "X_train, X_test, y_train, y_test = train_test_split(X, y, test_size=0.2, random_state=42)\n",
    "\n",
    "# Create and train a classifier\n",
    "classifier = MultinomialNB()\n",
    "classifier.fit(X_train, y_train)\n",
    "\n",
    "# Make predictions\n",
    "y_pred = classifier.predict(X_test)\n",
    "\n",
    "# Evaluate the model\n",
    "accuracy = accuracy_score(y_test, y_pred)\n",
    "report = classification_report(y_test, y_pred)\n",
    "confusion = confusion_matrix(y_test, y_pred)\n",
    "\n",
    "print(\"Accuracy:\", accuracy)\n",
    "print(report)\n",
    "print(\"Confusion Matrix:\")\n",
    "print(confusion)\n"
   ]
  },
  {
   "cell_type": "markdown",
   "id": "97dbee11",
   "metadata": {},
   "source": [
    "THANKS YOU"
   ]
  },
  {
   "cell_type": "code",
   "execution_count": null,
   "id": "63b6ea96",
   "metadata": {},
   "outputs": [],
   "source": []
  }
 ],
 "metadata": {
  "kernelspec": {
   "display_name": "Python 3 (ipykernel)",
   "language": "python",
   "name": "python3"
  },
  "language_info": {
   "codemirror_mode": {
    "name": "ipython",
    "version": 3
   },
   "file_extension": ".py",
   "mimetype": "text/x-python",
   "name": "python",
   "nbconvert_exporter": "python",
   "pygments_lexer": "ipython3",
   "version": "3.9.7"
  }
 },
 "nbformat": 4,
 "nbformat_minor": 5
}
